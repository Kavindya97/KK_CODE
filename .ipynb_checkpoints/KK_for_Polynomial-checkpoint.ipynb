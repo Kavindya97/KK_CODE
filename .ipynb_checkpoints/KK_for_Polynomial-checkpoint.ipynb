{
 "cells": [
  {
   "cell_type": "code",
   "execution_count": 1,
   "id": "d39eb903",
   "metadata": {},
   "outputs": [],
   "source": [
    "import numpy as np\n",
    "from scipy.integrate import quad\n",
    "\n",
    "def kk_polynomial(coefficients, x):\n",
    "    # Calculate the real and imaginary parts of the polynomial\n",
    "    real = np.polyval(coefficients, x).real\n",
    "    imag = np.polyval(coefficients, x).imag\n",
    "    return real, imag\n",
    "\n",
    "def real_part(omega, imag_part, coefficients):\n",
    "    # Define the integrand for the real part\n",
    "    def integrand(omega_prime, omega, imag_part, coefficients):\n",
    "        return imag_part(omega_prime, coefficients) / (omega_prime - omega)\n",
    "\n",
    "    # Use quad to perform the integration\n",
    "    return quad(integrand, -np.inf, np.inf, args=(omega, imag_part, coefficients))[0] / np.pi\n",
    "\n",
    "def imag_part(omega, real_part, coefficients):\n",
    "    # Define the integrand for the imaginary part\n",
    "    def integrand(omega_prime, omega, real_part, coefficients):\n",
    "        return real_part(omega_prime, coefficients) / (omega_prime - omega)\n",
    "\n",
    "    # Use quad to perform the integration\n",
    "    return -quad(integrand, -np.inf, np.inf, args=(omega, real_part, coefficients))[0] / np.pi\n",
    "\n",
    "def kramers_kronig(coefficients, x):\n",
    "    # Calculate the real and imaginary parts of the polynomial\n",
    "    real, imag = kk_polynomial(coefficients, x)\n",
    "    \n",
    "    # Use the real and imaginary parts to calculate the result using the Kramers-Kronig relations\n",
    "    result = np.zeros_like(x)\n",
    "    for i, xi in enumerate(x):\n",
    "        result[i] = real_part(xi, imag_part, coefficients)\n",
    "    return result\n"
   ]
  },
  {
   "cell_type": "markdown",
   "id": "20cde6bb",
   "metadata": {},
   "source": [
    "This code defines three functions: kk_polynomial, which calculates the real and imaginary parts of a polynomial; real_part, which calculates the real part of the polynomial from the imaginary part using the Kramers-Kronig relations; and imag_part, which calculates the imaginary part of the polynomial from the real part using the Kramers-Kronig relations. The kramers_kronig function then uses these functions to calculate the result of applying the Kramers-Kronig relations to the polynomial."
   ]
  },
  {
   "cell_type": "code",
   "execution_count": 2,
   "id": "bbdcaa50",
   "metadata": {},
   "outputs": [],
   "source": [
    "coefficients = [1, 2, 3]  # polynomial is x^2 + 2x + 3\n",
    "x = np.linspace(-10, 10, 100)\n",
    "real, imag = kk_polynomial(coefficients, x)"
   ]
  },
  {
   "cell_type": "code",
   "execution_count": 3,
   "id": "231b1e33",
   "metadata": {},
   "outputs": [
    {
     "data": {
      "text/plain": [
       "array([ 83.        ,  79.40444853,  75.89052138,  72.45821855,\n",
       "        69.10754005,  65.83848587,  62.65105601,  59.54525048,\n",
       "        56.52106928,  53.5785124 ,  50.71757984,  47.9382716 ,\n",
       "        45.2405877 ,  42.62452811,  40.09009285,  37.63728191,\n",
       "        35.2660953 ,  32.97653301,  30.76859504,  28.6422814 ,\n",
       "        26.59759208,  24.63452709,  22.75308642,  20.95327007,\n",
       "        19.23507805,  17.59851036,  16.04356698,  14.57024793,\n",
       "        13.17855321,  11.86848281,  10.64003673,   9.49321498,\n",
       "         8.42801755,   7.44444444,   6.54249566,   5.72217121,\n",
       "         4.98347107,   4.32639527,   3.75094378,   3.25711662,\n",
       "         2.84491378,   2.51433527,   2.26538108,   2.09805122,\n",
       "         2.01234568,   2.00826446,   2.08580757,   2.244975  ,\n",
       "         2.48576676,   2.80818284,   3.21222324,   3.69788797,\n",
       "         4.26517702,   4.9140904 ,   5.6446281 ,   6.45679012,\n",
       "         7.35057647,   8.32598714,   9.38302214,  10.52168146,\n",
       "        11.74196511,  13.04387307,  14.42740537,  15.89256198,\n",
       "        17.43934292,  19.06774819,  20.77777778,  22.56943169,\n",
       "        24.44270993,  26.39761249,  28.43413937,  30.55229058,\n",
       "        32.75206612,  35.03346597,  37.39649015,  39.84113866,\n",
       "        42.36741149,  44.97530864,  47.66483012,  50.43597592,\n",
       "        53.28874605,  56.2231405 ,  59.23915927,  62.33680237,\n",
       "        65.51606979,  68.77696153,  72.1194776 ,  75.543618  ,\n",
       "        79.04938272,  82.63677176,  86.30578512,  90.05642281,\n",
       "        93.88868483,  97.80257117, 101.79808183, 105.87521681,\n",
       "       110.03397612, 114.27435976, 118.59636772, 123.        ])"
      ]
     },
     "execution_count": 3,
     "metadata": {},
     "output_type": "execute_result"
    }
   ],
   "source": [
    "real"
   ]
  },
  {
   "cell_type": "code",
   "execution_count": null,
   "id": "e66836ff",
   "metadata": {},
   "outputs": [],
   "source": []
  },
  {
   "cell_type": "code",
   "execution_count": null,
   "id": "318e8977",
   "metadata": {},
   "outputs": [],
   "source": []
  }
 ],
 "metadata": {
  "kernelspec": {
   "display_name": "Python 3 (ipykernel)",
   "language": "python",
   "name": "python3"
  },
  "language_info": {
   "codemirror_mode": {
    "name": "ipython",
    "version": 3
   },
   "file_extension": ".py",
   "mimetype": "text/x-python",
   "name": "python",
   "nbconvert_exporter": "python",
   "pygments_lexer": "ipython3",
   "version": "3.9.13"
  }
 },
 "nbformat": 4,
 "nbformat_minor": 5
}
